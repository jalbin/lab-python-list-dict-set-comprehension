{
 "cells": [
  {
   "cell_type": "markdown",
   "metadata": {},
   "source": [
    "# Lab | List, Dict and Set Comprehension"
   ]
  },
  {
   "cell_type": "markdown",
   "metadata": {},
   "source": [
    "## Exercise: Managing Customer Orders Optimized with Comprehension"
   ]
  },
  {
   "cell_type": "markdown",
   "metadata": {},
   "source": [
    "In the previous exercise, you developed a program to manage customer orders and inventory. Now, let's take it a step further and incorporate comprehension into your code.\n",
    "\n",
    "Follow the steps below to complete the exercise:\n",
    "\n",
    "1. Review your code from the previous exercise and identify areas where you can apply comprehension to simplify and streamline your code. \n",
    "\n",
    "    - *Hint: Apply it to initialize inventory, updating the inventory and printing the updated inventory.*\n",
    "    \n",
    "    - For example, in initializing the inventory, we could have:\n",
    "    \n",
    "        ```python\n",
    "        def initialize_inventory(products):\n",
    "            inventory = {product: int(input(f\"Enter the quantity of {product}s available: \")) for product in products}\n",
    "            return inventory\n",
    "\n",
    "        ```\n",
    "<br>\n",
    "    \n",
    "    \n",
    "2. Modify the function get_customer_orders so it prompts the user to enter the number of customer orders and gathers the product names using a loop and user input. Use comprehension.\n",
    "\n",
    "3. Add a new function to calculate the total price of the customer order. For each product in customer_orders, prompt the user to enter the price of that product. Use comprehension to calculate the total price. Note: assume that the user can only have 1 unit of each product.\n",
    "\n",
    "4. Modify the update_inventory function to remove the product from the inventory if its quantity becomes zero after fulfilling the customer orders. Use comprehension to filter out the products with a quantity of zero from the inventory.\n",
    "\n",
    "5. Print the total price of the customer order.\n",
    "\n",
    "Your code should produce output similar to the following:\n",
    "\n",
    "```python\n",
    "Enter the quantity of t-shirts available:  5\n",
    "Enter the quantity of mugs available:  4\n",
    "Enter the quantity of hats available:  3\n",
    "Enter the quantity of books available:  2\n",
    "Enter the quantity of keychains available:  1\n",
    "Enter the number of customer orders:  2\n",
    "Enter the name of a product that a customer wants to order:  hat\n",
    "Enter the name of a product that a customer wants to order:  keychain\n",
    "\n",
    "Order Statistics:\n",
    "Total Products Ordered: 2\n",
    "Percentage of Unique Products Ordered: 40.0\n",
    "\n",
    "Updated Inventory:\n",
    "t-shirt: 5\n",
    "mug: 4\n",
    "hat: 2\n",
    "book: 2\n",
    "Enter the price of keychain:  5\n",
    "Enter the price of hat:  10\n",
    "Total Price: 15.0\n",
    "\n",
    "```\n"
   ]
  },
  {
   "cell_type": "code",
   "execution_count": 92,
   "metadata": {},
   "outputs": [],
   "source": [
    "products = [\"t-shirt\", \"mug\", \"hat\", \"book\", \"keychain\"]\n",
    "customer_orders = set()\n",
    "\n",
    "\"\"\" this is the initial solution which includes validation \"\"\"\n",
    "\n",
    "#def initialize_inventory(products):\n",
    "#    for product in products:\n",
    "#        quantity = input(f\"Enter the quantity for {product} : \")\n",
    "#        while not quantity.isdigit():\n",
    "#            quantity = input(f\"Enter a valid quantity for {product} : \")\n",
    "#        inventory[product] = int(quantity)\n",
    "#    return inventory\n",
    "\n",
    "\"\"\" This is an alternate solution with comprehension dictionary\n",
    "    but without validation since while loop can't be defined in comprehension dictionaries\"\"\"\n",
    "\n",
    "def initialize_inventory(products):\n",
    "    inventory = {product:int(input(f\"Enter the quantity of {product}s available: \")) for product in products}\n",
    "    return inventory"
   ]
  },
  {
   "cell_type": "code",
   "execution_count": 93,
   "metadata": {},
   "outputs": [],
   "source": [
    "def get_customer_orders():\n",
    "    wanna_order = \"yes\"\n",
    "    while wanna_order == \"yes\":\n",
    "        order = input(\"Enter the name of a product to order: \")\n",
    "        customer_orders.add(order)\n",
    "        wanna_order = input(\"Do you want to order another product ?(yes/no)? \")\n",
    "    return customer_orders"
   ]
  },
  {
   "cell_type": "code",
   "execution_count": 94,
   "metadata": {},
   "outputs": [],
   "source": [
    "# 3.\n",
    "\n",
    "def update_inventory(customer_orders, inventory):\n",
    "    inventory = {k: v - 1 if k in customer_orders else v for k, v in inventory.items()}\n",
    "    return inventory\n"
   ]
  },
  {
   "cell_type": "code",
   "execution_count": 95,
   "metadata": {},
   "outputs": [],
   "source": [
    "# 4.\n",
    "\n",
    "def calculate_order_statistics(customer_orders,products):\n",
    "    return (len(customer_orders),100*len(customer_orders)/len(products))"
   ]
  },
  {
   "cell_type": "code",
   "execution_count": 96,
   "metadata": {},
   "outputs": [],
   "source": [
    "# 5.\n",
    "\n",
    "def print_order_statistics(order_statistics):\n",
    "    print(f\"Order Statistics:\")\n",
    "    print(f\"Total Products Ordered: {order_statistics[0]}\")\n",
    "    print(f\"Percentage of Products Ordered: {order_statistics[1]}%\")"
   ]
  },
  {
   "cell_type": "code",
   "execution_count": 97,
   "metadata": {},
   "outputs": [],
   "source": [
    "# 6.\n",
    "\n",
    "\"\"\" A first solution with comprehension \"\"\"\n",
    "def print_updated_inventory(inventory):\n",
    "    [print(f\"{k} : {v}\") for k,v in inventory.items()]\n",
    "    \n",
    "\"\"\" An alternate solution with a combination of map and lambda function \"\"\"\n",
    "#def print_updated_inventory(inventory):\n",
    "#    list(map(lambda k, v: print(f\"{k} : {v}\"), inventory, inventory.values()))"
   ]
  },
  {
   "cell_type": "code",
   "execution_count": 98,
   "metadata": {},
   "outputs": [
    {
     "name": "stdout",
     "output_type": "stream",
     "text": [
      "Enter the quantity of t-shirts available: 2\n",
      "Enter the quantity of mugs available: 4\n",
      "Enter the quantity of hats available: 6\n",
      "Enter the quantity of books available: 8\n",
      "Enter the quantity of keychains available: 10\n",
      "Enter the name of a product to order: hat\n",
      "Do you want to order another product ?(yes/no)? yes\n",
      "Enter the name of a product to order: book\n",
      "Do you want to order another product ?(yes/no)? yes\n",
      "Enter the name of a product to order: mug\n",
      "Do you want to order another product ?(yes/no)? no\n",
      "Order Statistics:\n",
      "Total Products Ordered: 3\n",
      "Percentage of Products Ordered: 60.0%\n",
      "t-shirt : 2\n",
      "mug : 3\n",
      "hat : 5\n",
      "book : 7\n",
      "keychain : 10\n"
     ]
    }
   ],
   "source": [
    "\n",
    "inventory = initialize_inventory(products)\n",
    "get_customer_orders()\n",
    "inventory = update_inventory(customer_orders,inventory)\n",
    "print_order_statistics(calculate_order_statistics(customer_orders,products))\n",
    "print_updated_inventory(inventory)\n"
   ]
  }
 ],
 "metadata": {
  "kernelspec": {
   "display_name": "Python 3",
   "language": "python",
   "name": "python3"
  },
  "language_info": {
   "codemirror_mode": {
    "name": "ipython",
    "version": 3
   },
   "file_extension": ".py",
   "mimetype": "text/x-python",
   "name": "python",
   "nbconvert_exporter": "python",
   "pygments_lexer": "ipython3",
   "version": "3.7.6"
  }
 },
 "nbformat": 4,
 "nbformat_minor": 5
}
